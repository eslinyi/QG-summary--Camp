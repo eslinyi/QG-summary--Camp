{
 "cells": [
  {
   "cell_type": "code",
   "execution_count": 1,
   "metadata": {
    "collapsed": true
   },
   "outputs": [],
   "source": [
    "import numpy as np\n",
    "from sklearn.datasets import load_digits\n",
    "from sklearn.preprocessing import LabelBinarizer\n",
    "from sklearn.model_selection import train_test_split\n",
    "\n",
    "def sigmoid(x):\n",
    "    return 1/(1+np.exp(-x))\n",
    "def dsigmoid(x):\n",
    "    return x*(1-x)"
   ]
  },
  {
   "cell_type": "code",
   "execution_count": 28,
   "outputs": [],
   "source": [
    "class NeuralNetwork:\n",
    "    def __init__(self,layers):\n",
    "        #权重初始化\n",
    "        self.V = np.random.random((layers[0]+1,layers[1]+1))*2-1\n",
    "        self.W = np.random.random((layers[1]+1,layers[2]))*2-1\n",
    "\n",
    "    def train(self,X,y,lr=0.11,epochs=10000):\n",
    "        temp = np.ones([X.shape[0],X.shape[1]+1])\n",
    "        temp[:,0:-1] = X\n",
    "        X = temp\n",
    "\n",
    "        for n in range(epochs+1):\n",
    "            i = np.random.randint(X.shape[0])\n",
    "            x = [X[i]]\n",
    "            x = np.atleast_2d(x)\n",
    "\n",
    "            L1 = sigmoid(np.dot(x,self.V))  #隐藏层\n",
    "            L2 = sigmoid(np.dot(L1,self.W))  ##输出层\n",
    "\n",
    "            L2_delta = (y[i]-L2)*dsigmoid(L2)\n",
    "            L1_dalta = L2_delta.dot(self.W.T)\n",
    "\n",
    "            self.W += lr*L1.T.dot(L2_delta)\n",
    "            self.V += lr*x.T.dot(L1_dalta)\n",
    "\n",
    "            if n%1000==0:\n",
    "                predictions = []\n",
    "                for j in range(X_test.shape[0]):\n",
    "                    o = self.predict(X_test[j])\n",
    "                    predictions.append(np.argmax(o))\n",
    "                accuracy = np.mean(np.equal(predictions,y_test))\n",
    "                print('epoch:',n,'accuracy:',accuracy)\n",
    "\n",
    "    def predict(self,x):\n",
    "        #添加偏置\n",
    "        temp = np.ones(x.shape[0]+1)\n",
    "        temp[0:-1] = x\n",
    "        x = temp\n",
    "        x = np.atleast_2d(x)#转为二维数据\n",
    "\n",
    "        L1 = sigmoid(np.dot(x,self.V)) #隐藏层输出\n",
    "        L2 = sigmoid(np.dot(L1,self.W)) #输出层输出\n",
    "        return L2"
   ],
   "metadata": {
    "collapsed": false
   }
  },
  {
   "cell_type": "code",
   "execution_count": 32,
   "outputs": [],
   "source": [
    "digits = load_digits()#载入数据\n",
    "X = digits.data#数据\n",
    "y = digits.target#标签\n",
    "X -= X.min()\n",
    "X /= X.max()\n",
    "X_train,X_test,y_train,y_test = train_test_split(X,y) #默认3:1划分\n",
    "labels_train = LabelBinarizer().fit_transform(y_train)#标签二值化\n",
    "labels_test = LabelBinarizer().fit_transform(y_test)#标签二值化"
   ],
   "metadata": {
    "collapsed": false
   }
  },
  {
   "cell_type": "code",
   "execution_count": 39,
   "outputs": [
    {
     "name": "stdout",
     "output_type": "stream",
     "text": [
      "start\n",
      "epoch: 0 accuracy: 0.08444444444444445\n",
      "epoch: 1000 accuracy: 0.8866666666666667\n",
      "epoch: 2000 accuracy: 0.9355555555555556\n",
      "epoch: 3000 accuracy: 0.9422222222222222\n",
      "epoch: 4000 accuracy: 0.9333333333333333\n",
      "epoch: 5000 accuracy: 0.9422222222222222\n",
      "epoch: 6000 accuracy: 0.9422222222222222\n",
      "epoch: 7000 accuracy: 0.9444444444444444\n",
      "epoch: 8000 accuracy: 0.9466666666666667\n",
      "epoch: 9000 accuracy: 0.9533333333333334\n",
      "epoch: 10000 accuracy: 0.9466666666666667\n",
      "epoch: 11000 accuracy: 0.96\n",
      "epoch: 12000 accuracy: 0.96\n",
      "epoch: 13000 accuracy: 0.9422222222222222\n",
      "epoch: 14000 accuracy: 0.9511111111111111\n",
      "epoch: 15000 accuracy: 0.9555555555555556\n",
      "epoch: 16000 accuracy: 0.96\n",
      "epoch: 17000 accuracy: 0.96\n",
      "epoch: 18000 accuracy: 0.96\n",
      "epoch: 19000 accuracy: 0.9555555555555556\n",
      "epoch: 20000 accuracy: 0.9622222222222222\n",
      "end\n"
     ]
    }
   ],
   "source": [
    "nm = NeuralNetwork([64,100,10])#创建网络\n",
    "print('start')\n",
    "nm.train(X_train,labels_train,epochs=20000)\n",
    "print('end')"
   ],
   "metadata": {
    "collapsed": false
   }
  }
 ],
 "metadata": {
  "kernelspec": {
   "display_name": "Python 3",
   "language": "python",
   "name": "python3"
  },
  "language_info": {
   "codemirror_mode": {
    "name": "ipython",
    "version": 2
   },
   "file_extension": ".py",
   "mimetype": "text/x-python",
   "name": "python",
   "nbconvert_exporter": "python",
   "pygments_lexer": "ipython2",
   "version": "2.7.6"
  }
 },
 "nbformat": 4,
 "nbformat_minor": 0
}
