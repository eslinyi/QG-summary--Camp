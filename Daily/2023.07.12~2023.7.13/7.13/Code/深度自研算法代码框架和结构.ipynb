{
 "cells": [
  {
   "cell_type": "markdown",
   "source": [
    "## 我对这次的BP算法产生了非常大的疑问，虽然整体上和上次的代码一样，但是其中我改动了梯度更新的函数，因为根据西瓜书的算法来看的话，第48行代码应该有一个(1-L1)，但是改动了之后的算法准确率反而不如原来的BP算法，一时间竟然不知道谁对，看了很久..很久，推导的算法应该没有问题，但是就是不高..........."
   ],
   "metadata": {
    "collapsed": false
   }
  },
  {
   "cell_type": "code",
   "execution_count": 31,
   "metadata": {
    "collapsed": true
   },
   "outputs": [
    {
     "name": "stdout",
     "output_type": "stream",
     "text": [
      "epoch: 11000 accuracy: 0.8866666666666667\n",
      "epoch: 12000 accuracy: 0.86\n",
      "epoch: 13000 accuracy: 0.8755555555555555\n",
      "epoch: 14000 accuracy: 0.8866666666666667\n",
      "epoch: 15000 accuracy: 0.8888888888888888\n",
      "epoch: 16000 accuracy: 0.8888888888888888\n",
      "epoch: 17000 accuracy: 0.8977777777777778\n",
      "epoch: 18000 accuracy: 0.8777777777777778\n",
      "epoch: 19000 accuracy: 0.8888888888888888\n",
      "epoch: 20000 accuracy: 0.8888888888888888\n",
      "epoch: 21000 accuracy: 0.8666666666666667\n",
      "epoch: 22000 accuracy: 0.8644444444444445\n",
      "epoch: 23000 accuracy: 0.8622222222222222\n",
      "epoch: 24000 accuracy: 0.8444444444444444\n",
      "epoch: 25000 accuracy: 0.8444444444444444\n",
      "epoch: 26000 accuracy: 0.8511111111111112\n",
      "epoch: 27000 accuracy: 0.8377777777777777\n",
      "epoch: 28000 accuracy: 0.86\n",
      "epoch: 29000 accuracy: 0.8577777777777778\n",
      "epoch: 30000 accuracy: 0.8822222222222222\n",
      "epoch: 31000 accuracy: 0.8644444444444445\n",
      "epoch: 32000 accuracy: 0.8533333333333334\n",
      "epoch: 33000 accuracy: 0.8844444444444445\n",
      "epoch: 34000 accuracy: 0.8644444444444445\n",
      "epoch: 35000 accuracy: 0.8666666666666667\n",
      "epoch: 36000 accuracy: 0.88\n",
      "epoch: 37000 accuracy: 0.8777777777777778\n",
      "epoch: 38000 accuracy: 0.8733333333333333\n",
      "epoch: 39000 accuracy: 0.8666666666666667\n",
      "epoch: 40000 accuracy: 0.8711111111111111\n",
      "epoch: 41000 accuracy: 0.8866666666666667\n",
      "epoch: 42000 accuracy: 0.8911111111111111\n",
      "epoch: 43000 accuracy: 0.8977777777777778\n",
      "epoch: 44000 accuracy: 0.9044444444444445\n",
      "epoch: 45000 accuracy: 0.9155555555555556\n",
      "epoch: 46000 accuracy: 0.8955555555555555\n",
      "epoch: 47000 accuracy: 0.92\n",
      "epoch: 48000 accuracy: 0.9177777777777778\n",
      "epoch: 49000 accuracy: 0.9222222222222223\n",
      "epoch: 50000 accuracy: 0.9177777777777778\n",
      "end\n",
      "start\n",
      "epoch: 0 accuracy: 0.03777777777777778\n",
      "epoch: 1000 accuracy: 0.6577777777777778\n",
      "epoch: 2000 accuracy: 0.7733333333333333\n",
      "epoch: 3000 accuracy: 0.8444444444444444\n",
      "epoch: 4000 accuracy: 0.8644444444444445\n",
      "epoch: 5000 accuracy: 0.8755555555555555\n",
      "epoch: 6000 accuracy: 0.8555555555555555\n",
      "epoch: 7000 accuracy: 0.8822222222222222\n",
      "epoch: 8000 accuracy: 0.8466666666666667\n",
      "epoch: 9000 accuracy: 0.9133333333333333\n",
      "epoch: 10000 accuracy: 0.8822222222222222\n",
      "epoch: 11000 accuracy: 0.8777777777777778\n",
      "epoch: 12000 accuracy: 0.8422222222222222\n",
      "epoch: 13000 accuracy: 0.8755555555555555\n",
      "epoch: 14000 accuracy: 0.88\n",
      "epoch: 15000 accuracy: 0.8666666666666667\n",
      "epoch: 16000 accuracy: 0.8377777777777777\n",
      "epoch: 17000 accuracy: 0.8844444444444445\n",
      "epoch: 18000 accuracy: 0.8555555555555555\n",
      "epoch: 19000 accuracy: 0.8733333333333333\n",
      "epoch: 20000 accuracy: 0.86\n",
      "epoch: 21000 accuracy: 0.8555555555555555\n",
      "epoch: 22000 accuracy: 0.8577777777777778\n",
      "epoch: 23000 accuracy: 0.8733333333333333\n",
      "epoch: 24000 accuracy: 0.8577777777777778\n",
      "epoch: 25000 accuracy: 0.8622222222222222\n",
      "epoch: 26000 accuracy: 0.8666666666666667\n",
      "epoch: 27000 accuracy: 0.8511111111111112\n",
      "epoch: 28000 accuracy: 0.8688888888888889\n",
      "epoch: 29000 accuracy: 0.8511111111111112\n",
      "epoch: 30000 accuracy: 0.8622222222222222\n",
      "epoch: 31000 accuracy: 0.88\n",
      "epoch: 32000 accuracy: 0.8866666666666667\n",
      "epoch: 33000 accuracy: 0.9088888888888889\n",
      "epoch: 34000 accuracy: 0.9133333333333333\n",
      "epoch: 35000 accuracy: 0.9155555555555556\n",
      "epoch: 36000 accuracy: 0.92\n",
      "epoch: 37000 accuracy: 0.9066666666666666\n",
      "epoch: 38000 accuracy: 0.9177777777777778\n",
      "epoch: 39000 accuracy: 0.9111111111111111\n",
      "epoch: 40000 accuracy: 0.9177777777777778\n",
      "epoch: 41000 accuracy: 0.9177777777777778\n",
      "epoch: 42000 accuracy: 0.9111111111111111\n",
      "epoch: 43000 accuracy: 0.92\n",
      "epoch: 44000 accuracy: 0.9155555555555556\n",
      "epoch: 45000 accuracy: 0.9066666666666666\n",
      "epoch: 46000 accuracy: 0.9088888888888889\n",
      "epoch: 47000 accuracy: 0.9111111111111111\n",
      "epoch: 48000 accuracy: 0.9066666666666666\n",
      "epoch: 49000 accuracy: 0.9111111111111111\n",
      "epoch: 50000 accuracy: 0.9177777777777778\n",
      "end\n"
     ]
    }
   ],
   "source": [
    "# 库函数的调用\n",
    "from sklearn.datasets import load_digits\n",
    "from sklearn.model_selection import train_test_split\n",
    "from sklearn.preprocessing import LabelBinarizer\n",
    "import numpy as np\n",
    "\n",
    "\n",
    "# 数据导入\n",
    "digits = load_digits()\n",
    "X = digits.data\n",
    "Y = digits.target\n",
    "## 数据归一化处理\n",
    "X -= X.min()\n",
    "X /= X.max()\n",
    "## 拆分测试集和训练集\n",
    "X_train,X_test,y_train,y_test = train_test_split(X,Y)  #默认3:1划分\n",
    "## 标签二值化 --独热编码\n",
    "labels_train = LabelBinarizer().fit_transform(y_train)  #标签二值化\n",
    "labels_test = LabelBinarizer().fit_transform(y_test)  #标签二值化\n",
    "\n",
    "\n",
    "# 函数的设置 --sigmoid函数 和 dsigmoid函数\n",
    "def sigmoid(x):\n",
    "    return 1/(1+np.exp(-x))\n",
    "def dsigmoid(x):\n",
    "    return x*(1-x)\n",
    "\n",
    "# 神经网络的设置\n",
    "class NeuralNetwork:\n",
    "    def __init__(self, layers):\n",
    "        self.V = np.random.random((layers[0]+1, layers[1]+1))*2-1\n",
    "        self.W = np.random.random((layers[1]+1, layers[2]))*2-1\n",
    "\n",
    "    def train(self, X, y, lr = 0.11, epochs = 10000):\n",
    "        tran = np.ones([X.shape[0], X.shape[1]+1])\n",
    "        tran[:,0:-1] = X\n",
    "        X = tran\n",
    "\n",
    "        for n in range(epochs+1):\n",
    "            i = np.random.randint((X.shape[0]))\n",
    "            x = [X[i]]\n",
    "            x = np.atleast_2d(x)\n",
    "\n",
    "            L1 = sigmoid(np.dot(x, self.V))\n",
    "            L2 = sigmoid(np.dot(L1, self.W))\n",
    "\n",
    "            L2_delta = (y[i]-L2)*dsigmoid(L2)\n",
    "            L1_delta = (1-L1)*L2_delta.dot(self.W.T)\n",
    "\n",
    "            self.W += lr * L1.T.dot(L2_delta)\n",
    "            self.V += lr * x.T.dot(L1_delta)\n",
    "\n",
    "            if n % 1000 == 0:\n",
    "                predictions = []\n",
    "                for j in range(X_test.shape[0]):\n",
    "                    o = self.predict(X_test[j])\n",
    "                    predictions.append(np.argmax(o))\n",
    "                accuracy = np.mean(np.equal(predictions, y_test))\n",
    "                print('epoch:', n, 'accuracy:', accuracy)\n",
    "\n",
    "    def predict(self, x):\n",
    "        #添加偏置\n",
    "        temp = np.ones(x.shape[0] + 1)\n",
    "        temp[0:-1] = x\n",
    "        x = temp\n",
    "        x = np.atleast_2d(x)  #转为二维数据\n",
    "\n",
    "        L1 = sigmoid(np.dot(x, self.V))  #隐藏层输出\n",
    "        L2 = sigmoid(np.dot(L1, self.W))  #输出层输出\n",
    "        return L2\n",
    "\n",
    "nm = NeuralNetwork([64,100,10])  #创建网络\n",
    "print('start')\n",
    "nm.train(X_train,labels_train,epochs=50000)\n",
    "print('end')"
   ]
  },
  {
   "cell_type": "markdown",
   "source": [
    "# CNN算法\n"
   ],
   "metadata": {
    "collapsed": false
   }
  },
  {
   "cell_type": "code",
   "execution_count": 34,
   "outputs": [
    {
     "name": "stdout",
     "output_type": "stream",
     "text": [
      "Files already downloaded and verified\n",
      "Files already downloaded and verified\n",
      "Files already downloaded and verified\n"
     ]
    }
   ],
   "source": [
    "import torchvision\n",
    "from torch import nn\n",
    "from torch.nn import Sequential, Conv2d, MaxPool2d, Flatten,Linear\n",
    "\n",
    "\n",
    "## 导入数据\n",
    "train_data = torchvision.datasets.CIFAR10(root='./dataset' ,train = True, transform=torchvision.transforms.ToTensor(), download=True)\n",
    "test_data = torchvision.datasets.CIFAR10(root='./dataset', train = False, transform=torchvision.transforms.ToTensor(), download=True)\n"
   ],
   "metadata": {
    "collapsed": false
   }
  },
  {
   "cell_type": "code",
   "execution_count": 36,
   "outputs": [],
   "source": [
    "## 训练模型\n",
    "class Tudui(nn.Module):\n",
    "    def __init__(self):\n",
    "        super(Tudui,self).__init__()\n",
    "        self.model1 = Sequential(\n",
    "            Conv2d(3, 32, 5, 1, padding=2),\n",
    "            MaxPool2d(2),\n",
    "            Conv2d(32, 32, 5, 1, padding=2),\n",
    "            MaxPool2d(2),\n",
    "            Conv2d(32, 64, 5, 1, padding=2),\n",
    "            MaxPool2d(2),\n",
    "            Flatten(),\n",
    "            Linear(1024, 64),\n",
    "            Linear(64, 10))\n",
    "    def forward(self, x):\n",
    "        x = self.model1(x)\n",
    "        return x"
   ],
   "metadata": {
    "collapsed": false
   }
  },
  {
   "cell_type": "markdown",
   "source": [
    "### 自研卷积网络\n"
   ],
   "metadata": {
    "collapsed": false
   }
  },
  {
   "cell_type": "code",
   "execution_count": 68,
   "outputs": [
    {
     "name": "stdout",
     "output_type": "stream",
     "text": [
      "[[11 88 38 76 35]\n",
      " [ 6 73 12 97 79]\n",
      " [70 78  4 85 55]\n",
      " [37 73  9 12  2]\n",
      " [78 63 91 94 53]] \n",
      "\n",
      " [[2 0 1]\n",
      " [2 0 2]\n",
      " [1 1 0]]\n"
     ]
    }
   ],
   "source": [
    "## 自研卷积层\n",
    "input1 = np.random.randint(1, 100, (5, 5))\n",
    "Kerual = np.random.randint(0, 3, (3, 3))\n",
    "print(input, \"\\n\\n\", Kerual)"
   ],
   "metadata": {
    "collapsed": false
   }
  },
  {
   "cell_type": "code",
   "execution_count": 113,
   "outputs": [
    {
     "data": {
      "text/plain": "array([[1325., 1449., 1532.],\n       [1285., 1160., 1123.],\n       [1619., 1440., 1296.]])"
     },
     "execution_count": 113,
     "metadata": {},
     "output_type": "execute_result"
    }
   ],
   "source": [
    "### 卷积层操作\n",
    "step_lie = input1.shape[1] - Kerual.shape[1]\n",
    "step_han = input1.shape[0] - Kerual.shape[0]\n",
    "\n",
    "output_1 = np.ones((step_han+1,step_lie+1))\n",
    "\n",
    "for i in range(step_han+1):\n",
    "    for j in range(step_lie+1):\n",
    "        output_1[i, j] = np.dot(input1[i:i+3, j:j+3],Kerual).sum()\n",
    "output_1"
   ],
   "metadata": {
    "collapsed": false
   }
  }
 ],
 "metadata": {
  "kernelspec": {
   "display_name": "Python 3",
   "language": "python",
   "name": "python3"
  },
  "language_info": {
   "codemirror_mode": {
    "name": "ipython",
    "version": 2
   },
   "file_extension": ".py",
   "mimetype": "text/x-python",
   "name": "python",
   "nbconvert_exporter": "python",
   "pygments_lexer": "ipython2",
   "version": "2.7.6"
  }
 },
 "nbformat": 4,
 "nbformat_minor": 0
}
