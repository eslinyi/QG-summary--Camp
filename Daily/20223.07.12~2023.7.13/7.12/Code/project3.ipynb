{
 "cells": [
  {
   "cell_type": "code",
   "execution_count": 1,
   "metadata": {
    "collapsed": true
   },
   "outputs": [],
   "source": [
    "import torch"
   ]
  },
  {
   "cell_type": "code",
   "execution_count": 4,
   "outputs": [
    {
     "name": "stdout",
     "output_type": "stream",
     "text": [
      "Data(x=[4, 2], edge_index=[2, 5], y=[4])\n"
     ]
    }
   ],
   "source": [
    "x = torch.tensor([[2,1],[5,6],[3,7],[12,0]],dtype = torch.float)\n",
    "y = torch.tensor([0,1,0,1],dtype = torch.float)\n",
    "edge_index = torch.tensor([[0,1,2,0,3],\n",
    "                           [1,0,1,3,2]],dtype=torch.float)\n",
    "\n",
    "from torch_geometric.data import Data\n",
    "data = Data(x=x, y=y ,edge_index = edge_index)\n",
    "print(data)"
   ],
   "metadata": {
    "collapsed": false
   }
  },
  {
   "cell_type": "code",
   "execution_count": null,
   "outputs": [],
   "source": [],
   "metadata": {
    "collapsed": false
   }
  }
 ],
 "metadata": {
  "kernelspec": {
   "display_name": "Python 3",
   "language": "python",
   "name": "python3"
  },
  "language_info": {
   "codemirror_mode": {
    "name": "ipython",
    "version": 2
   },
   "file_extension": ".py",
   "mimetype": "text/x-python",
   "name": "python",
   "nbconvert_exporter": "python",
   "pygments_lexer": "ipython2",
   "version": "2.7.6"
  }
 },
 "nbformat": 4,
 "nbformat_minor": 0
}
